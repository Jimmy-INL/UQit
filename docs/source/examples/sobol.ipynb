{
 "cells": [
  {
   "cell_type": "markdown",
   "metadata": {},
   "source": [
    "# `UQit` Sobol Sensitivity Indices"
   ]
  },
  {
   "cell_type": "markdown",
   "metadata": {},
   "source": [
    "### Example 1: Sobol indices for 2D parameter space"
   ]
  },
  {
   "cell_type": "markdown",
   "metadata": {},
   "source": [
    "Consider the following analytical function, \n",
    "$$\n",
    "\\begin{equation}\n",
    "f(\\mathbf{q}) = q_1^2+q_1 q_2\n",
    "\\label{eq:1dModel}\\tag{3}\n",
    "\\end{equation}\n",
    "$$\n",
    "\n",
    "where $\\mathbf{q}=\\{q_1,q_2\\}$, and both parameters are random with uniform distributions, i.e., $q_1\\sim \\mathcal{U}[\\mathbb{Q}_1]$ and $q_2\\sim \\mathcal{U}[\\mathbb{Q}_2]$. \n",
    "The aim is to compute the main Sobol indices using `UQit` and validate them with the analytical values..\n",
    "\n",
    "The given model function (simulator) is implemented in `analyticTestFuncs.fEx2D` with keyword `type3`. "
   ]
  },
  {
   "cell_type": "markdown",
   "metadata": {},
   "source": [
    "**Step 1:** Imports"
   ]
  },
  {
   "cell_type": "code",
   "execution_count": 1,
   "metadata": {},
   "outputs": [],
   "source": [
    "import os\n",
    "import sys\n",
    "import numpy as np\n",
    "sys.path.append(os.getenv(\"UQit\"))\n",
    "import analyticTestFuncs\n",
    "import sobol"
   ]
  },
  {
   "cell_type": "markdown",
   "metadata": {},
   "source": [
    "**Step 2:** Set the number of samples for $q_1$ and $q_2$ and their associated admissible spaces $\\mathbb{Q}_1$ and $\\mathbb{Q}_2$"
   ]
  },
  {
   "cell_type": "code",
   "execution_count": 2,
   "metadata": {},
   "outputs": [],
   "source": [
    "n=[100, 90]       #number of samples for q1 and q2\n",
    "qBound=[[-3,1],   #admissible space of q1 and q2\n",
    "        [-1,2]]"
   ]
  },
  {
   "cell_type": "markdown",
   "metadata": {},
   "source": [
    "**Step 3:** Generate samples for parameters $q_1$ and $q_2$. We choose to have samples to be uniformly spaced over the parameter spaces. "
   ]
  },
  {
   "cell_type": "code",
   "execution_count": 3,
   "metadata": {},
   "outputs": [],
   "source": [
    "q=[]\n",
    "for i in range(len(n)):\n",
    "    q.append(np.linspace(qBound[i][0],qBound[i][1],n[i]))"
   ]
  },
  {
   "cell_type": "markdown",
   "metadata": {},
   "source": [
    "**Step 4:** Run the simulator (3) at the parameter samples to generate training model outputs. We assume that a 2D sample parameter is obtained by tensor product of the samples for $q_1$ and $q_2$. "
   ]
  },
  {
   "cell_type": "code",
   "execution_count": 4,
   "metadata": {},
   "outputs": [],
   "source": [
    "fEx_=analyticTestFuncs.fEx2D(q[0],q[1],'type3','tensorProd')\n",
    "fEx=np.reshape(fEx_,(n[0],n[1]),'F')"
   ]
  },
  {
   "cell_type": "markdown",
   "metadata": {},
   "source": [
    "**Step 5:** Compute first- and second-order main Sobol sensitivity indices using `UQit`"
   ]
  },
  {
   "cell_type": "code",
   "execution_count": 5,
   "metadata": {},
   "outputs": [],
   "source": [
    "Si,Sij=sobol.sobol_unif([q[0],q[1]],fEx)"
   ]
  },
  {
   "cell_type": "markdown",
   "metadata": {},
   "source": [
    "**Step 6:** Validate the computed Sobol indices through comparison with the analytical values. To this end, we define a set of functions to compute the exact Sobol indices. Note that, in general since the exact form of the model function (simulator) is not known, exact Sobol indices can not be evaluated. "
   ]
  },
  {
   "cell_type": "code",
   "execution_count": 6,
   "metadata": {},
   "outputs": [],
   "source": [
    "def analyticalSobol_2par(qBound):\n",
    "    \"\"\"\n",
    "    Analytical Sobol indices for analyticalTestFuncs.fEx2D('type3')\n",
    "    \"\"\"\n",
    "    def D1_Ex(a,b,q1):\n",
    "        return(0.2*q1**5.+0.5*a*q1**4.+(a**2.+2.*b)/3.*q1**3.+a*b*q1**2.+b**2.*q1)\n",
    "    def D2_Ex(a,b,q2):\n",
    "        return((a**2./3.)*q2**3.+a*b*q2**2.+b**2.*q2)\n",
    "    def D12_Ex(a,b,c,q1Bound,q2Bound):\n",
    "        q1_1=q1Bound[1]-q1Bound[0]\n",
    "        q1_2=q1Bound[1]**2.-q1Bound[0]**2.\n",
    "        q1_3=q1Bound[1]**3.-q1Bound[0]**3.\n",
    "        q2_1=q2Bound[1]-q2Bound[0]\n",
    "        q2_2=q2Bound[1]**2.-q2Bound[0]**2.\n",
    "        q2_3=q2Bound[1]**3.-q2Bound[0]**3.\n",
    "        return(q1_3*q2_3/9.+a/3.*q1_3*q2_2+b*q1_2*q2_3/3.+0.5*(c+a*b)*q1_2*q2_2+\\\n",
    "               a**2.*q1_3*q2_1/3.+b**2.*q1_1*q2_3/3.+a*c*q1_2*q2_1+b*c*q1_1*q2_2+c**2.*q1_1*q2_1)    \n",
    "    a1=qBound[0][0]\n",
    "    b1=qBound[0][1]\n",
    "    a2=qBound[1][0]\n",
    "    b2=qBound[1][1]\n",
    "    f0=(a1**2.+b1**2.+a1*b1)/3.+0.25*(a1+b1)*(a2+b2)\n",
    "    a=(a2+b2)/2.0\n",
    "    b=-f0\n",
    "    D1_ex=(D1_Ex(a,b,b1)-D1_Ex(a,b,a1))/(b1-a1)\n",
    "    a=(a1+b1)/2.0\n",
    "    b=(a1**2.+a1*b1+b1**2.)/3.-f0\n",
    "    D2_ex=(D2_Ex(a,b,b2)-D2_Ex(a,b,a2))/(b2-a2)\n",
    "    a=-(a2+b2)/2.\n",
    "    b=-(a1+b1)/2.\n",
    "    c=f0-(a1**2.+a1*b1+b1**2.)/3.\n",
    "    D12_ex=(D12_Ex(a,b,c,qBound[0],qBound[1]))/((b1-a1)*(b2-a2))\n",
    "    D_ex=D1_ex+D2_ex+D12_ex\n",
    "    Si_ex=[D1_ex/D_ex,D2_ex/D_ex]\n",
    "    Sij_ex=[D12_ex/D_ex]\n",
    "    return Si_ex,Sij_ex"
   ]
  },
  {
   "cell_type": "markdown",
   "metadata": {},
   "source": [
    "**Results:**"
   ]
  },
  {
   "cell_type": "code",
   "execution_count": 7,
   "metadata": {},
   "outputs": [
    {
     "name": "stdout",
     "output_type": "stream",
     "text": [
      "Indices by UQit:\n",
      "\t S1=0.716474, S2=0.121511, S12=0.162015\n",
      "Reference Indices:\n",
      "\t S1=0.716472, S2=0.121512, S12=0.162016\n"
     ]
    }
   ],
   "source": [
    "print('Indices by UQit:\\n\\t S1=%g, S2=%g, S12=%g' %(Si[0],Si[1],Sij[0]))\n",
    "Si_ex,Sij_ex=analyticalSobol_2par(qBound)\n",
    "print('Reference Indices:\\n\\t S1=%g, S2=%g, S12=%g' %(Si_ex[0],Si_ex[1],Sij_ex[0]))"
   ]
  },
  {
   "cell_type": "markdown",
   "metadata": {},
   "source": [
    "### Example 2: Sobol indices from a surrogate"
   ]
  },
  {
   "cell_type": "markdown",
   "metadata": {},
   "source": [
    "In the previous example, all the required samples to compute the Sobol indices were drawn directly from the simulator. This can be the case when running the simulator is computationally inexpensive. But in practice, we need to deal with the cases where the computational cost of running the simulator limits the number of training samples. \n",
    "In such situations, we need to construct a surrogate based on a limited number of training data and then use the surrogate to compute the Sobol indices. \n",
    "\n",
    "Following this procedure, we repeat the previous example. First, we construct a surrogate using PCE (polynomial chaos expansion). It is recalled that different appraoches for constructing a surrogate can be used. "
   ]
  },
  {
   "cell_type": "markdown",
   "metadata": {},
   "source": [
    "**Step 1:** Draw a few samples to construct the PCE surrogate. We choose to have the parameter samples to be Gauss-Legendre points. The simulator is run at these parameter samples. "
   ]
  },
  {
   "cell_type": "code",
   "execution_count": 8,
   "metadata": {},
   "outputs": [],
   "source": [
    "import pce\n",
    "import reshaper\n",
    "nQpce=[5,6]    #number of samples from q1, q2 to construct surrogate\n",
    "[xi1,w1]=pce.GaussLeg_ptswts(nQpce[0])\n",
    "[xi2,w2]=pce.GaussLeg_ptswts(nQpce[1])\n",
    "q1pce=pce.mapFromUnit(xi1,qBound[0])\n",
    "q2pce=pce.mapFromUnit(xi2,qBound[1])\n",
    "fVal_pceCnstrct=analyticTestFuncs.fEx2D(q1pce,q2pce,'type3','tensorProd')"
   ]
  },
  {
   "cell_type": "markdown",
   "metadata": {},
   "source": [
    "**Step 2:** Construct the PCE surrogate"
   ]
  },
  {
   "cell_type": "code",
   "execution_count": 9,
   "metadata": {},
   "outputs": [
    {
     "name": "stdout",
     "output_type": "stream",
     "text": [
      "... A gPCE for a 2D parameter space is constructed.\n",
      "...... Samples in each direction are Gauss Quadrature nodes (User should check this!).\n",
      "...... PCE truncation method: TP\n",
      "...... Method of computing PCE coefficients: Projection\n",
      "...... Number of terms in PCE, K=  30\n",
      "...... Number of Data point, n=  30\n"
     ]
    }
   ],
   "source": [
    "xiGrid=reshaper.vecs2grid(xi1,xi2)\n",
    "pceDict={'sampleType':'GQ','truncMethod':'TP','pceSolveMethod':'Projection'}\n",
    "pceDict=pce.pceDict_corrector(pceDict)\n",
    "fCoefs,kSet,fMean,fVar=pce.pce_LegUnif_2d_cnstrct(fVal_pceCnstrct,nQpce,xiGrid,pceDict)"
   ]
  },
  {
   "cell_type": "markdown",
   "metadata": {},
   "source": [
    "**Step 3:** Run the surrogate at test samples which are used to compute the Sobol indices. The test samples are taken from $\\mathbb{Q}$. "
   ]
  },
  {
   "cell_type": "code",
   "execution_count": 10,
   "metadata": {},
   "outputs": [],
   "source": [
    "q1pceTest =np.linspace(qBound[0][0],qBound[0][1],n[0])\n",
    "xi1Test   =pce.mapToUnit(q1pceTest,qBound[0])\n",
    "q2pceTest =np.linspace(qBound[1][0],qBound[1][1],n[1])\n",
    "xi2Test   =pce.mapToUnit(q2pceTest,qBound[1])\n",
    "fPCETest  =pce.pce_LegUnif_2d_eval(fCoefs,kSet,xi1Test,xi2Test)"
   ]
  },
  {
   "cell_type": "markdown",
   "metadata": {},
   "source": [
    "**Step 4:** Compute the Sobol indices using the surrogate values. "
   ]
  },
  {
   "cell_type": "code",
   "execution_count": 11,
   "metadata": {},
   "outputs": [],
   "source": [
    "Si_pce,Sij_pce=sobol.sobol_unif([q1pceTest,q2pceTest],fPCETest)"
   ]
  },
  {
   "cell_type": "markdown",
   "metadata": {},
   "source": [
    "We can validate the computed indices with the results of the previous example. "
   ]
  },
  {
   "cell_type": "code",
   "execution_count": 12,
   "metadata": {},
   "outputs": [
    {
     "name": "stdout",
     "output_type": "stream",
     "text": [
      "Indices by the surrogate:\n",
      "\t S1=0.716474, S2=0.121511, S12=0.162015\n"
     ]
    }
   ],
   "source": [
    "print('Indices by the surrogate:\\n\\t S1=%g, S2=%g, S12=%g' %(Si_pce[0],Si_pce[1],Sij_pce[0]))"
   ]
  },
  {
   "cell_type": "markdown",
   "metadata": {},
   "source": [
    "### Example 3: Sobol indices for 3D parameter space"
   ]
  },
  {
   "cell_type": "markdown",
   "metadata": {},
   "source": [
    "Consider the following analytical function, \n",
    "$$\n",
    "\\begin{equation}\n",
    "f(\\mathbf{q}) = \\sin(q_1)+a\\sin^2(q_2)+b\\,q_3^4\\sin(q_1) \\,,\n",
    "\\label{eq:ishigami}\\tag{4}\n",
    "\\end{equation}\n",
    "$$\n",
    "\n",
    "which is called [Ishigami](https://inis.iaea.org/search/search.aspx?orig_q=RN:21024954) function and widely used  to validate different methods in UQ. \n",
    "\n",
    "Here, $a$ and $b$ are two fixed parameters and the uncertain parameters $\\mathbf{q}=\\{q_1,q_2,q_3\\}$ have uniform distributions over the same range: $q_i\\sim \\mathcal{U}[-\\pi,\\pi]\\,,\\quad i=1,2,3$.\n",
    "The aim is to compute the main Sobol indices using `UQit` and validate them with the analytical values.\n",
    "\n",
    "The given model function (simulator) is implemented in `analyticTestFuncs.fEx3D` with keyword `Ishigami`. "
   ]
  },
  {
   "cell_type": "markdown",
   "metadata": {},
   "source": [
    "**Step 1:** Imports: same as above plus the following:"
   ]
  },
  {
   "cell_type": "code",
   "execution_count": 13,
   "metadata": {},
   "outputs": [],
   "source": [
    "from math import pi"
   ]
  },
  {
   "cell_type": "markdown",
   "metadata": {},
   "source": [
    "**Step 2:** Set the number of samples for $q_1$, $q_2$ and $q_3$ and their associated admissible spaces $\\mathbb{Q}_1$, $\\mathbb{Q}_2$ and $\\mathbb{Q}_3$. Also set the model's fixed parameters $a$ and $b$."
   ]
  },
  {
   "cell_type": "code",
   "execution_count": 14,
   "metadata": {},
   "outputs": [],
   "source": [
    "n=[100, 70, 80]        #number of samples for q1, q2, q3\n",
    "qBound=[[-pi,pi],      #admissible space of the parameters\n",
    "        [-pi,pi],\n",
    "        [-pi,pi]]\n",
    "a=7   \n",
    "b=0.1"
   ]
  },
  {
   "cell_type": "markdown",
   "metadata": {},
   "source": [
    "**Step 3:** Generate samples for parameters $q_1$ and $q_2$. We choose to have samples to be uniformly spaced over the parameter spaces. "
   ]
  },
  {
   "cell_type": "code",
   "execution_count": 15,
   "metadata": {},
   "outputs": [],
   "source": [
    "q=[]\n",
    "for i in range(len(n)):\n",
    "    q.append(np.linspace(qBound[i][0],qBound[i][1],n[i]))"
   ]
  },
  {
   "cell_type": "markdown",
   "metadata": {},
   "source": [
    "**Step 4:** Run the simulator (4) at the parameter samples to generate training model outputs. We assume that a 3D sample parameter is obtained by tensor product of the samples for $q_1$, $q_2$ and $q_3$. "
   ]
  },
  {
   "cell_type": "code",
   "execution_count": 16,
   "metadata": {},
   "outputs": [],
   "source": [
    "fEx_=analyticTestFuncs.fEx3D(q[0],q[1],q[2],'Ishigami','tensorProd',{'a':a,'b':b})\n",
    "fEx=np.reshape(fEx_,(n[0],n[1],n[2]),'F')"
   ]
  },
  {
   "cell_type": "markdown",
   "metadata": {},
   "source": [
    "**Step 5:** Compute first- and second-order main Sobol sensitivity indices using `UQit`"
   ]
  },
  {
   "cell_type": "code",
   "execution_count": 17,
   "metadata": {},
   "outputs": [],
   "source": [
    "Si,Sij=sobol.sobol_unif([q[0],q[1],q[2]],fEx)"
   ]
  },
  {
   "cell_type": "markdown",
   "metadata": {},
   "source": [
    "**Step 6:** Validate the computed Sobol indices through comparison with the analytical values. Note that, in general since the exact form of the model function (simulator) is not known, exact Sobol indices can not be evaluated. "
   ]
  },
  {
   "cell_type": "code",
   "execution_count": 18,
   "metadata": {},
   "outputs": [],
   "source": [
    "D1=b*pi**4./5.+b**2.*pi**8./50. + 0.5\n",
    "D2=a**2./8.0\n",
    "D3=0.0\n",
    "D13=b**2.*pi**8./50.0+7.*b**2.*pi**8./450\n",
    "D12=0.0\n",
    "D23=0.0\n",
    "D123=0.0\n",
    "D=D1+D2+D3+D12+D13+D23+D123\n",
    "Si_ex=[D1/D,D2/D,D3/D]\n",
    "Sij_ex=[D12/D,D13/D,D23/D]"
   ]
  },
  {
   "cell_type": "markdown",
   "metadata": {},
   "source": [
    "**Results:**"
   ]
  },
  {
   "cell_type": "code",
   "execution_count": 19,
   "metadata": {},
   "outputs": [
    {
     "name": "stdout",
     "output_type": "stream",
     "text": [
      "Indices by UQit  : S1=0.313905, S2=0.442312, S3=5.6976e-32\n",
      "                   S12=2.07163e-31, S13=0.243783, S23=1.54398e-31\n",
      "Reference Indices: S1=0.313905, S2=0.442411, S3=0\n",
      "                   S12=0, S13=0.243684, S23=0\n"
     ]
    }
   ],
   "source": [
    "print('Indices by UQit  : S1=%g, S2=%g, S3=%g' %(Si[0],Si[1],Si[2]))\n",
    "print('                   S12=%g, S13=%g, S23=%g' %(Sij[0],Sij[1],Sij[2]))    \n",
    "print('Reference Indices: S1=%g, S2=%g, S3=%g' %(Si_ex[0],Si_ex[1],Si_ex[2]))\n",
    "print('                   S12=%g, S13=%g, S23=%g' %(Sij_ex[0],Sij_ex[1],Sij_ex[2]))    "
   ]
  }
 ],
 "metadata": {
  "kernelspec": {
   "display_name": "Python 3",
   "language": "python",
   "name": "python3"
  },
  "language_info": {
   "codemirror_mode": {
    "name": "ipython",
    "version": 3
   },
   "file_extension": ".py",
   "mimetype": "text/x-python",
   "name": "python",
   "nbconvert_exporter": "python",
   "pygments_lexer": "ipython3",
   "version": "3.7.4"
  }
 },
 "nbformat": 4,
 "nbformat_minor": 2
}
