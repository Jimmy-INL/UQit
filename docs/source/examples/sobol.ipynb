{
 "cells": [
  {
   "cell_type": "markdown",
   "metadata": {},
   "source": [
    "# Sobol Sensitivity Indices"
   ]
  },
  {
   "cell_type": "markdown",
   "metadata": {},
   "source": [
    "By analysis of variance (ANOVA) or [Sobol decomposition](https://www.sciencedirect.com/science/article/abs/pii/S0378475400002706), a model function is decomposed as,\n",
    "$$\n",
    "\\begin{equation}\n",
    "f(\\mathbf{q}) = \n",
    "f_0 +\\sum_{i=1}^p f_i(q_i) + \\sum_{1\\leq i<j\\leq p} f_{ij}(q_i,q_j)+\\cdots\\,,\n",
    "\\label{eq:anova_f}\\tag{1}\n",
    "\\end{equation}\n",
    "$$\n",
    "\n",
    "where, $f_0$ is the mean of $f(\\mathbf{q})$, $f_i(q_i)$ specify the contribution of each parameter, $f_{ij}(q_i,q_j)$ denote effects of\n",
    "interaction between each pair of parameters, and so on for other interactions. \n",
    "These contributors are defined as,\n",
    "$$\n",
    "\\begin{eqnarray*}\n",
    "f_0 &=& \\mathbb{E}_\\mathbf{q}[f(\\mathbf{q})] \\,, \\\\\n",
    "f_i(q_i) &=&\\mathbb{E}_\\mathbf{q}[f(\\mathbf{q})|q_i] - f_0 \\,, \\\\\n",
    "f_{ij}(q_{i},q_j) &=& \\mathbb{E}_\\mathbf{q}[f(\\mathbf{q})|q_i,q_j] -f_i(q_i) -f_j(q_j) - f_0 \\,. \n",
    "\\end{eqnarray*}\n",
    "$$\n",
    "\n",
    "Here, $\\mathbb{E}_\\mathbf{q}[f(\\mathbf{q})|q_i]$, for instance, denotes the expected value of $f(\\mathbf{q})$ conditioned on fixed values of $q_i$. \n",
    "Similar to Eq. \\eqref{eq:anova_f}, the total variance of $f(\\mathbf{q})$, denoted by $D$, is decomposed as, \n",
    "$$\n",
    "\\begin{equation}\n",
    "\\mathbb{V}_\\mathbf{q}[f(\\mathbf{q})] = D=\\sum_{i=1}^p D_i + \\sum_{1\\leq i<j\\leq p} D_{ij} + \\cdots \\,,\n",
    "\\end{equation}\n",
    "$$\n",
    "\n",
    "where, $D_i=\\mathbb{V}_\\mathbf{q}[f_i(q_i)]$, $D_{ij}=\\mathbb{V}_\\mathbf{q}[f_{ij}(q_i,q_j)]$, and  so on. \n",
    "The main Sobol indices are eventually defined as the contribution of\n",
    "each of $D_i$, $D_{ij}$, ... in the total variance $D$:\n",
    "$$\n",
    "\\begin{equation}\n",
    "S_i=D_i/D\\,,\\quad \n",
    "S_{ij}=D_{ij}/D \\,,\\, \\ldots \\,, \\quad i,j=1,2,\\cdots,p \n",
    "\\label{eq:sobol} \\tag{2}\n",
    "\\end{equation}\n",
    "$$"
   ]
  },
  {
   "cell_type": "markdown",
   "metadata": {},
   "source": [
    "### Example 1: Sobol indices for 2D parameter space"
   ]
  },
  {
   "cell_type": "markdown",
   "metadata": {},
   "source": [
    "Consider the following analytical function, \n",
    "$$\n",
    "f(\\mathbf{q}) = q_1^2+q_1 q_2\n",
    "$$\n",
    "\n",
    "where $\\mathbf{q}=\\{q_1,q_2\\}$, and both parameters are random with uniform distributions, i.e., $q_1\\sim \\mathcal{U}[\\mathbb{Q}_1]$ and $q_2\\sim \\mathcal{U}[\\mathbb{Q}_2]$. \n",
    "The aim is to compute the main Sobol indices using `UQit` and validate the values with the analytical data."
   ]
  },
  {
   "cell_type": "code",
   "execution_count": null,
   "metadata": {},
   "outputs": [],
   "source": []
  }
 ],
 "metadata": {
  "kernelspec": {
   "display_name": "Python 3",
   "language": "python",
   "name": "python3"
  },
  "language_info": {
   "codemirror_mode": {
    "name": "ipython",
    "version": 3
   },
   "file_extension": ".py",
   "mimetype": "text/x-python",
   "name": "python",
   "nbconvert_exporter": "python",
   "pygments_lexer": "ipython3",
   "version": "3.7.4"
  }
 },
 "nbformat": 4,
 "nbformat_minor": 2
}
