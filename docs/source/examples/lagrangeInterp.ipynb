{
 "cells": [
  {
   "cell_type": "markdown",
   "metadata": {},
   "source": [
    "# Lagrange Interpolation"
   ]
  },
  {
   "cell_type": "markdown",
   "metadata": {},
   "source": [
    "### Example 1: Lagrange interpolation over a 1D parameter space. \n"
   ]
  },
  {
   "cell_type": "markdown",
   "metadata": {},
   "source": [
    "Consider a model function that only depends on one uncertain parameter $q_1\\in \\mathbb{Q}_1$. \n",
    "The aim is to construct a 1D lagrange interpolation based on a limited number of samples drawn from $\\mathbb{Q}_1$. \n",
    "`UQit` provide different methods for drawing samples for an uncertain parameter, and of course it can handle any arbitrary set of samples which are taken by the user. \n",
    "\n",
    "The model function is defied as, \n",
    "$$\n",
    "\\begin{equation}\n",
    "r=10+0.7\\sin(5q_1)+3 \\cos(q_1)\n",
    "\\end{equation}\n",
    "$$\n",
    "\n",
    "Given values for $q_1$, the values of this function can be generated via `analyticTestFuncs.fEx1D(q1,'type1')`. \n",
    "to construct the Lagrange interpolation using the values of this simulator, we take the following steps:"
   ]
  },
  {
   "cell_type": "markdown",
   "metadata": {},
   "source": [
    "**Step 1:** Imports"
   ]
  },
  {
   "cell_type": "code",
   "execution_count": 1,
   "metadata": {},
   "outputs": [
    {
     "ename": "SyntaxError",
     "evalue": "invalid syntax (pce.py, line 819)",
     "output_type": "error",
     "traceback": [
      "Traceback \u001b[0;36m(most recent call last)\u001b[0m:\n",
      "  File \u001b[1;32m\"/home/saleh/anaconda3/lib/python3.7/site-packages/IPython/core/interactiveshell.py\"\u001b[0m, line \u001b[1;32m3326\u001b[0m, in \u001b[1;35mrun_code\u001b[0m\n    exec(code_obj, self.user_global_ns, self.user_ns)\n",
      "  File \u001b[1;32m\"<ipython-input-1-49526391ef25>\"\u001b[0m, line \u001b[1;32m7\u001b[0m, in \u001b[1;35m<module>\u001b[0m\n    import sampling\n",
      "\u001b[0;36m  File \u001b[0;32m\"/home/saleh/Desktop/onGit/onLinuxCodes/onlinuxcodes_postdoc/UQit/core/sampling.py\"\u001b[0;36m, line \u001b[0;32m12\u001b[0;36m, in \u001b[0;35m<module>\u001b[0;36m\u001b[0m\n\u001b[0;31m    import pce\u001b[0m\n",
      "\u001b[0;36m  File \u001b[0;32m\"/home/saleh/Desktop/onGit/onLinuxCodes/onlinuxcodes_postdoc/UQit/core/pce.py\"\u001b[0;36m, line \u001b[0;32m819\u001b[0m\n\u001b[0;31m    if DistType=='Unif'\u001b[0m\n\u001b[0m                       ^\u001b[0m\n\u001b[0;31mSyntaxError\u001b[0m\u001b[0;31m:\u001b[0m invalid syntax\n"
     ]
    }
   ],
   "source": [
    "import os\n",
    "import sys\n",
    "import numpy as np\n",
    "import matplotlib.pyplot as plt\n",
    "sys.path.append(os.getenv(\"UQit\"))\n",
    "import analyticTestFuncs\n",
    "import sampling\n",
    "import lagrangeInterpol\n",
    "import reshaper"
   ]
  },
  {
   "cell_type": "markdown",
   "metadata": {},
   "source": [
    "**Step 2:** Set the settings; We set the number of nodes (parameter samples), the admissbile space of the parameters $\\mathbb{Q}_1$, how the samples are drawn, and number of test points in the parameter space to test the constructed Lagrange interpolation."
   ]
  },
  {
   "cell_type": "code",
   "execution_count": null,
   "metadata": {},
   "outputs": [],
   "source": [
    "nNodes=10       #number of nodes\n",
    "qBound=[-1,3]   #range over which nodes are randomly chosen\n",
    "sampType='Clenshaw'  #how to generate nodes\n",
    "                #'random', 'uniform', 'GL' (Gauss-Legendre), 'Clenshaw', 'Clenshaw-Curtis' \n",
    "nTest=100       #number of test points for plot    "
   ]
  },
  {
   "cell_type": "markdown",
   "metadata": {},
   "source": [
    "**Step 3:** Draw samples for the parameters and run the simulator at each. "
   ]
  },
  {
   "cell_type": "code",
   "execution_count": null,
   "metadata": {},
   "outputs": [],
   "source": [
    "qNodes=sampling.sampler_1d(qBound,nNodes,sampType)\n",
    "fNodes=analyticTestFuncs.fEx1D(qNodes)"
   ]
  },
  {
   "cell_type": "markdown",
   "metadata": {},
   "source": [
    "**Step 4:** Construct test values for the parameters at which the surrogate is tested. "
   ]
  },
  {
   "cell_type": "code",
   "execution_count": null,
   "metadata": {},
   "outputs": [],
   "source": [
    "qTestFull=np.linspace(qBound[0],qBound[1],nTest)\n",
    "qTest=np.linspace(min(qNodes),max(qNodes),nTest)"
   ]
  },
  {
   "cell_type": "markdown",
   "metadata": {},
   "source": [
    "**Step 5:** Construct the Lagrange interpolation and evaluate it the test poins"
   ]
  },
  {
   "cell_type": "code",
   "execution_count": null,
   "metadata": {},
   "outputs": [],
   "source": [
    "fInterpTest=lagrangeInterpol.lagrangeInterpol_singleVar(fNodes,qNodes,qTest)"
   ]
  },
  {
   "cell_type": "markdown",
   "metadata": {},
   "source": [
    "**Step 6** Plot and validation"
   ]
  },
  {
   "cell_type": "code",
   "execution_count": null,
   "metadata": {
    "scrolled": true
   },
   "outputs": [],
   "source": [
    "fTestFull=analyticTestFuncs.fEx1D(qTestFull)\n",
    "plt.figure(figsize=(12,5))\n",
    "plt.plot(qTestFull,fTestFull,'--r',lw=2,label='Exact f(q)')\n",
    "plt.plot(qTest,fInterpTest,'-b',lw=2,label='f(q) by Lagrange Interpolation')\n",
    "plt.plot(qNodes,fNodes,'oc',markersize='8',label='Nodes')\n",
    "plt.legend(loc='best',fontsize=17)\n",
    "plt.xticks(fontsize=15)\n",
    "plt.yticks(fontsize=15)\n",
    "plt.grid(alpha=0.3)\n",
    "plt.xlabel(r'$q$',fontsize=20)\n",
    "plt.ylabel(r'$f(q)$',fontsize=20)\n",
    "plt.show()"
   ]
  },
  {
   "cell_type": "markdown",
   "metadata": {},
   "source": [
    "**Discussion** There are different factors that control the accuracy of the prediction of a Lagrange interplation. These include the number of nodes and the way they are generated. Try to rerun the above example adopting different values for `nNodes` and `sampType`."
   ]
  },
  {
   "cell_type": "markdown",
   "metadata": {},
   "source": [
    "### Example 2: Lagrange interpolation over a 2D parameter space. \n",
    "Consider a model function which depends on parameters $q_1\\in \\mathbb{Q}_1$ and $q_2\\in\\mathbb{Q}_2$. \n",
    "Consider the subspace $\\mathbb{Q}^*_1\\bigotimes\\mathbb{Q}^*_2 \\subset \\mathbb{Q}_1\\bigotimes\\mathbb{Q}_2$. \n",
    "Through a few number of samples  $\\mathbb{Q}^*_1\\bigotimes\\mathbb{Q}^*_2$, we want to reconstruct the response surface using Lagrange interpolation. \n",
    "The required steps are as in Example 1, with the additional step of constructing a 2D tensor-product grid using the samples of $q_1$ and $q_2$.\n",
    "\n",
    "As the model response we consider\n",
    "$$\n",
    "\\begin{eqnarray}\n",
    "r=f(\\mathbf{q}) &=& 3 \\exp\\left(-(q_2+2)^2-q_1^2\\right)\\left(q_1-1\\right)^2 \\\\\n",
    "                &-& \\exp\\left(-(q_1+2)^2-q_1^2\\right)/3 \\\\\n",
    "                &+& \\exp\\left(-(q_1^2+q_2^2)\\right)\\left(10q_1^3-2q_1+10q_2^5\\right)\\,,\n",
    "\\end{eqnarray}\n",
    "$$\n",
    "\n",
    "which is implemented in `UQit` in `analyticTestFuncs.fEx2D()` with keyword `type1`."
   ]
  },
  {
   "cell_type": "markdown",
   "metadata": {},
   "source": [
    "**Step 1:** Set the settings."
   ]
  },
  {
   "cell_type": "code",
   "execution_count": null,
   "metadata": {},
   "outputs": [],
   "source": [
    "nNodes=[6,4]      #number of nodes in spaces of q1, q2\n",
    "sampType=['GL',      #Method to draw samples for q1, q2 (see Example 1, Step 2)\n",
    "          'uniform']\n",
    "qBound=[[-0.75,1.5],  #spaces Q*1, Q*2\n",
    "        [-0.5 ,2.5]]\n",
    "domRange=[[-2,2], #spaces Q1, Q2\n",
    "          [-3,3]]\n",
    "nTest=[100,100] #number of test points for plotting"
   ]
  },
  {
   "cell_type": "markdown",
   "metadata": {},
   "source": [
    "**Step 2:** Generate training data"
   ]
  },
  {
   "cell_type": "code",
   "execution_count": null,
   "metadata": {},
   "outputs": [],
   "source": [
    "p=len(nNodes)\n",
    "qNodes=[]\n",
    "for i in range(p):\n",
    "    qNodes_=sampling.sampler_1d(qBound[i],nNodes[i],sampType[i])\n",
    "    qNodes.append(qNodes_)\n",
    "fNodes=analyticTestFuncs.fEx2D(qNodes[0],qNodes[1],'type1','tensorProd')"
   ]
  },
  {
   "cell_type": "markdown",
   "metadata": {},
   "source": [
    "**Step 3:** Generate test samples over $\\mathbb{Q}^*_1\\bigotimes\\mathbb{Q}^*_2$ at which the Lagrange interpolation is evaluated."
   ]
  },
  {
   "cell_type": "code",
   "execution_count": null,
   "metadata": {},
   "outputs": [],
   "source": [
    "qTestList=[]\n",
    "for i in range(p):\n",
    "    qTest_ =np.linspace(qBound[i][0],qBound[i][1],nTest[i])  #test points in param_i space\n",
    "    qTestList.append(qTest_)\n",
    "qTest=reshaper.vecs2grid(qTestList[0],qTestList[1])"
   ]
  },
  {
   "cell_type": "markdown",
   "metadata": {},
   "source": [
    "**Step 4:** Construct the Lagrange interpolation and evaluate it the test poins"
   ]
  },
  {
   "cell_type": "code",
   "execution_count": null,
   "metadata": {},
   "outputs": [],
   "source": [
    "fTest=lagrangeInterpol.lagrangeInterpol_multiVar(fNodes,qNodes,qTest,'tensorProd')"
   ]
  },
  {
   "cell_type": "markdown",
   "metadata": {},
   "source": [
    "**Step 5:** Plot the original and interpolated response surfaces."
   ]
  },
  {
   "cell_type": "code",
   "execution_count": null,
   "metadata": {},
   "outputs": [],
   "source": [
    "qTestFull=[]\n",
    "for i in range(p):\n",
    "    qTestFull_=np.linspace(domRange[i][0],domRange[i][1],nTest[i])  #test points in param1 space\n",
    "    qTestFull.append(qTestFull_)\n",
    "\n",
    "fTestFull=analyticTestFuncs.fEx2D(qTestFull[0],qTestFull[1],'type1','tensorProd')   #response value at the test points\n",
    "fTestFullGrid=fTestFull.reshape((nTest[0],nTest[1]),order='F').T\n",
    "fTestGrid=fTest.reshape((nTest[0],nTest[1]),order='F').T\n",
    "plt.figure(figsize=(16,8));\n",
    "plt.subplot(1,2,1)\n",
    "ax=plt.gca()\n",
    "CS1 = plt.contour(qTestFull[0],qTestFull[1],fTestFullGrid,35)#,cmap=plt.get_cmap('viridis'))\n",
    "plt.clabel(CS1, inline=True, fontsize=15,colors='k',fmt='%0.2f',rightside_up=True,manual=False)\n",
    "qNodesGrid=reshaper.vecs2grid(qNodes[0],qNodes[1])  #2d mesh \n",
    "plt.plot(qNodesGrid[:,0],qNodesGrid[:,1],'o',color='r',markersize=6)\n",
    "plt.xlabel(r'$q_1$',fontsize=20);plt.ylabel(r'$q_2$',fontsize=20);\n",
    "plt.xticks(fontsize=17)\n",
    "plt.yticks(fontsize=17)\n",
    "plt.title('Exact Response Surface')\n",
    "plt.subplot(1,2,2)\n",
    "ax=plt.gca()\n",
    "CS2 = plt.contour(qTestList[0],qTestList[1],fTestGrid,20)#,cmap=plt.get_cmap('viridis'))\n",
    "plt.clabel(CS2, inline=True, fontsize=15,colors='k',fmt='%0.2f',rightside_up=True,manual=False)\n",
    "plt.plot(qNodesGrid[:,0],qNodesGrid[:,1],'o',color='r',markersize=6)\n",
    "plt.xlabel('$q_1$',fontsize=20);plt.ylabel('$q_2$',fontsize=20);\n",
    "plt.xticks(fontsize=17)\n",
    "plt.yticks(fontsize=17)\n",
    "plt.title('Response Surface by Lagrange Interpolation from Sampled Values')\n",
    "plt.xlim(domRange[0])\n",
    "plt.ylim(domRange[1])\n",
    "plt.show()"
   ]
  },
  {
   "cell_type": "markdown",
   "metadata": {},
   "source": [
    "**Discussion:** Try different types and numbers of training parameter samples!"
   ]
  },
  {
   "cell_type": "markdown",
   "metadata": {},
   "source": [
    "### Example 3:  Lagrange interpolation over a 3D parameter space."
   ]
  },
  {
   "cell_type": "markdown",
   "metadata": {},
   "source": [
    "Consider the [Ishigami](https://inis.iaea.org/search/search.aspx?orig_q=RN:21024954) function,\n",
    "$$\n",
    "\\begin{equation}\n",
    "f(\\mathbf{q}) = \\sin(q_1)+a\\sin^2(q_2)+b\\,q_3^4\\sin(q_1) \\,.\n",
    "\\label{eq:ishigami}\\tag{4}\n",
    "\\end{equation}\n",
    "$$\n",
    "\n",
    "where $q_i\\in \\mathbb{Q}_i\\,,i=1,2,3$.\n",
    "We want to find the error between the actual function values and what prediction by the Lagrange interpolation constructed based on a limited number of samples. "
   ]
  },
  {
   "cell_type": "markdown",
   "metadata": {},
   "source": [
    "**Step 1:** Set the settings"
   ]
  },
  {
   "cell_type": "code",
   "execution_count": null,
   "metadata": {},
   "outputs": [],
   "source": [
    "nNodes=[7,8,7] #number of Gauss quadratures in each of the 3 parameter spaces\n",
    "sampType=['GL',      #Method to draw samples for q1, q2, q3\n",
    "          'uniform',\n",
    "          'Clenshaw']\n",
    "qBound=[[-0.75,1.5], #1D parameter spaces\n",
    "        [-0.5 ,2.5],\n",
    "        [1,3]]\n",
    "# Test points over each 1D parameter space\n",
    "nTest=[8,6,7]\n",
    "# Parameters in Ishigami function\n",
    "a=0.2\n",
    "b=0.1"
   ]
  },
  {
   "cell_type": "markdown",
   "metadata": {},
   "source": [
    "**Step2 :** Generate the training data"
   ]
  },
  {
   "cell_type": "code",
   "execution_count": null,
   "metadata": {},
   "outputs": [],
   "source": [
    "p=len(nNodes)\n",
    "qNodes=[]\n",
    "for i in range(p):\n",
    "    qNodes_=sampling.sampler_1d(qBound[i],nNodes[i],sampType[i])\n",
    "    qNodes.append(qNodes_)\n",
    "fNodes=analyticTestFuncs.fEx3D(qNodes[0],qNodes[1],qNodes[2],'Ishigami','tensorProd',{'a':a,'b':b})"
   ]
  },
  {
   "cell_type": "markdown",
   "metadata": {},
   "source": [
    "**Step 3:** Generate test samples and exact response values. "
   ]
  },
  {
   "cell_type": "code",
   "execution_count": null,
   "metadata": {},
   "outputs": [],
   "source": [
    "qTest=[]\n",
    "for i in range(p):\n",
    "    qTest_=np.linspace(qBound[i][0],qBound[i][1],nTest[i])\n",
    "    qTest.append(qTest_)\n",
    "fTestEx=analyticTestFuncs.fEx3D(qTest[0],qTest[1],qTest[2],'Ishigami','tensorProd',{'a':a,'b':b})\n",
    "qTestGrid=reshaper.vecs2grid3d(qTest[0],qTest[1],qTest[2])"
   ]
  },
  {
   "cell_type": "markdown",
   "metadata": {},
   "source": [
    "**Step 4:** Constract the Lagrange interpolation and evaluate it at the test samples. "
   ]
  },
  {
   "cell_type": "code",
   "execution_count": null,
   "metadata": {},
   "outputs": [],
   "source": [
    "qTestGrid=reshaper.vecs2grid3d(qTest[0],qTest[1],qTest[2])\n",
    "fInterp=lagrangeInterpol.lagrangeInterpol_multiVar(fNodes,qNodes,qTestGrid,'tensorProd')"
   ]
  },
  {
   "cell_type": "markdown",
   "metadata": {},
   "source": [
    "**Step 5:** Plot "
   ]
  },
  {
   "cell_type": "code",
   "execution_count": null,
   "metadata": {},
   "outputs": [],
   "source": [
    "plt.figure(figsize=(14,8))\n",
    "plt.subplot(2,1,1)\n",
    "plt.plot(fInterp,'-ob',label='Lagrange Interpolation from Nodal Values')\n",
    "plt.plot(fTestEx,'--xr',label='Analytical Value')\n",
    "plt.ylabel(r'$f(q1,q2,q3)$',fontsize=18)\n",
    "plt.xlabel(r'Test Parameters',fontsize=18)\n",
    "plt.legend(loc='best',fontsize=17)\n",
    "plt.grid()\n",
    "plt.subplot(2,1,2)\n",
    "plt.plot(abs(fInterp-fTestEx)/(fTestEx)*100,'-sk')\n",
    "plt.ylabel(r'$|f_{interp}(q)-f_{Analytic}(q)|/f_{Analytic}(q) \\%$',fontsize=15)\n",
    "plt.xlabel(r'Test Parameters',fontsize=18)\n",
    "plt.grid()\n",
    "plt.show()"
   ]
  },
  {
   "cell_type": "markdown",
   "metadata": {},
   "source": [
    "Clearly, the error between the exact values of the Ishigami function and the values given by a Lagrange interpolation constructed from a limited number of samples in the parameter space is very small. One can investiagte how different number and type of training samples would influence the accuracy of the interpolation. "
   ]
  },
  {
   "cell_type": "code",
   "execution_count": null,
   "metadata": {},
   "outputs": [],
   "source": []
  }
 ],
 "metadata": {
  "kernelspec": {
   "display_name": "Python 3",
   "language": "python",
   "name": "python3"
  },
  "language_info": {
   "codemirror_mode": {
    "name": "ipython",
    "version": 3
   },
   "file_extension": ".py",
   "mimetype": "text/x-python",
   "name": "python",
   "nbconvert_exporter": "python",
   "pygments_lexer": "ipython3",
   "version": "3.7.4"
  }
 },
 "nbformat": 4,
 "nbformat_minor": 2
}
